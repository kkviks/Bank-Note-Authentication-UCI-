{
 "cells": [
  {
   "cell_type": "code",
   "execution_count": 66,
   "metadata": {},
   "outputs": [],
   "source": [
    "import numpy as np\n",
    "import pandas as pd\n",
    "from IPython.display import display, HTML\n",
    "import matplotlib.pyplot as plt\n",
    "import time\n",
    "%matplotlib inline\n",
    "\n",
    "#importing original dataset\n",
    "data_orig = np.loadtxt('a2_data/data_banknote_authentication.txt', delimiter=',')"
   ]
  },
  {
   "cell_type": "code",
   "execution_count": 67,
   "metadata": {},
   "outputs": [
    {
     "name": "stdout",
     "output_type": "stream",
     "text": [
      "Dataset : \n",
      "\n",
      "[[  3.6216    8.6661   -2.8073   -0.44699   0.     ]\n",
      " [  4.5459    8.1674   -2.4586   -1.4621    0.     ]\n",
      " [  3.866    -2.6383    1.9242    0.10645   0.     ]\n",
      " ...\n",
      " [ -3.7503  -13.4586   17.5932   -2.7771    1.     ]\n",
      " [ -3.5637   -8.3827   12.393    -1.2823    1.     ]\n",
      " [ -2.5419   -0.65804   2.6842    1.1952    1.     ]]\n",
      "\n",
      "Dimensions of dataset : (1372, 5)\n"
     ]
    }
   ],
   "source": [
    "#Dataset : \n",
    "\n",
    "print(\"Dataset : \\n\\n\"+ str(data_orig))\n",
    "print(\"\\nDimensions of dataset : \"+str(data_orig.shape))"
   ]
  },
  {
   "cell_type": "code",
   "execution_count": 68,
   "metadata": {},
   "outputs": [],
   "source": [
    "#Seed for np.random\n",
    "seed=3\n",
    "np.random.seed(seed)    "
   ]
  },
  {
   "cell_type": "code",
   "execution_count": 69,
   "metadata": {},
   "outputs": [],
   "source": [
    "#Shuffling imported original dataset\n",
    "np.random.shuffle(data_orig)  "
   ]
  },
  {
   "cell_type": "code",
   "execution_count": 70,
   "metadata": {},
   "outputs": [
    {
     "name": "stdout",
     "output_type": "stream",
     "text": [
      "Shuffled dataset with (Seed 3) :\n",
      "\n",
      "[[-0.62043  0.5587  -0.38587 -0.66423  1.     ]\n",
      " [ 4.7965   6.9859  -1.9967  -0.35001  0.     ]\n",
      " [ 4.0422  -4.391    4.7466   1.137    0.     ]\n",
      " ...\n",
      " [-1.9555   0.20692  1.2473  -0.3707   1.     ]\n",
      " [-1.2846   3.2715  -1.7671  -3.2608   1.     ]\n",
      " [-2.3675  -0.43663  1.692   -0.43018  1.     ]]\n"
     ]
    }
   ],
   "source": [
    "#Shuffled dataset\n",
    "print(\"Shuffled dataset with (Seed \"+str(seed) +\") :\\n\\n\"+str(data_orig))"
   ]
  },
  {
   "cell_type": "code",
   "execution_count": 71,
   "metadata": {},
   "outputs": [
    {
     "name": "stdout",
     "output_type": "stream",
     "text": [
      "Output Y   :[1. 0. 0. ... 1. 1. 1.]\n",
      "Shape of Y : (1372,)\n",
      "Number of 0s : 762.0\n",
      "Number of 1s : 610.0\n"
     ]
    }
   ],
   "source": [
    "#Extacting Y\n",
    "y_orig = data_orig[:,-1]\n",
    "print(\"Output Y   :\"+str(y_orig))\n",
    "print(\"Shape of Y : \"+str(y_orig.shape))\n",
    "print(\"Number of 0s : \"+str(y_orig.shape[0]-np.sum(y_orig)))\n",
    "print(\"Number of 1s : \"+str(np.sum(y_orig)))"
   ]
  },
  {
   "cell_type": "code",
   "execution_count": 72,
   "metadata": {},
   "outputs": [
    {
     "name": "stdout",
     "output_type": "stream",
     "text": [
      "Shape of Y: (1, 1372)\n"
     ]
    }
   ],
   "source": [
    "#Getting rid of Rank 1 array\n",
    "Y = np.reshape(y_orig,(y_orig.shape[0],1)).T    \n",
    "print(\"Shape of Y: \"+ str(Y.shape))"
   ]
  },
  {
   "cell_type": "code",
   "execution_count": 73,
   "metadata": {},
   "outputs": [
    {
     "name": "stdout",
     "output_type": "stream",
     "text": [
      "Input set : \n",
      "\n",
      "[[-0.62043  4.7965   4.0422  ... -1.9555  -1.2846  -2.3675 ]\n",
      " [ 0.5587   6.9859  -4.391   ...  0.20692  3.2715  -0.43663]\n",
      " [-0.38587 -1.9967   4.7466  ...  1.2473  -1.7671   1.692  ]\n",
      " [-0.66423 -0.35001  1.137   ... -0.3707  -3.2608  -0.43018]]\n"
     ]
    }
   ],
   "source": [
    "#Extracting vectorized input feature X (transposed)\n",
    "x_shuffled = data_orig[:,(0,1,2,3)].T\n",
    "print(\"Input set : \\n\\n\" +str(x_shuffled))"
   ]
  },
  {
   "cell_type": "code",
   "execution_count": 74,
   "metadata": {},
   "outputs": [
    {
     "name": "stdout",
     "output_type": "stream",
     "text": [
      "(4, 1372)\n"
     ]
    }
   ],
   "source": [
    "print(x_shuffled.shape)"
   ]
  },
  {
   "cell_type": "code",
   "execution_count": 75,
   "metadata": {},
   "outputs": [],
   "source": [
    "def standardize(x):\n",
    "    \n",
    "    x_mean = np.mean(x,axis=1, keepdims=True)\n",
    "    x_std = np.std(x, axis=1, keepdims=True)\n",
    "\n",
    "    X = (x - x_mean)  #Python Broadcasting\n",
    "    X = X/x_std\n",
    "    \n",
    "    return X"
   ]
  },
  {
   "cell_type": "code",
   "execution_count": 76,
   "metadata": {},
   "outputs": [
    {
     "name": "stdout",
     "output_type": "stream",
     "text": [
      "Standardizd Input X : \n",
      "\n",
      "[[-0.37095945  1.53525151  1.26981427 ... -0.84076893 -0.60468005\n",
      "  -0.98575122]\n",
      " [-0.23243133  0.86306915 -1.07609556 ... -0.29239137  0.22995878\n",
      "  -0.40208289]\n",
      " [-0.41395243 -0.78782856  0.77730177 ... -0.03489116 -0.73453804\n",
      "   0.0683244 ]\n",
      " [ 0.25112591  0.40073686  1.10875348 ...  0.39088564 -0.98519039\n",
      "   0.36256517]]\n",
      "\n",
      "Means of features              : \n",
      "[[-1.68313695e-17]\n",
      " [-7.50938022e-17]\n",
      " [ 5.17888291e-18]\n",
      " [-5.04941084e-17]]\n",
      "\n",
      "Standard Deviation of features : \n",
      "[[1.]\n",
      " [1.]\n",
      " [1.]\n",
      " [1.]]\n"
     ]
    }
   ],
   "source": [
    "#Standardizing shuffled input X\n",
    "X = standardize(x_shuffled)\n",
    "#X = x_shuffled\n",
    "print(\"Standardizd Input X : \\n\\n\"+str(X))\n",
    "print(\"\\nMeans of features              : \\n\"+str(np.mean(X,axis=1,keepdims=True)))\n",
    "print(\"\\nStandard Deviation of features : \\n\"+str(np.std(X,axis=1,keepdims=True)))"
   ]
  },
  {
   "cell_type": "code",
   "execution_count": 77,
   "metadata": {},
   "outputs": [
    {
     "name": "stdout",
     "output_type": "stream",
     "text": [
      "Distribution feature 1 :\n"
     ]
    },
    {
     "data": {
      "text/plain": [
       "<matplotlib.axes._subplots.AxesSubplot at 0x1829d7ba108>"
      ]
     },
     "execution_count": 77,
     "metadata": {},
     "output_type": "execute_result"
    },
    {
     "data": {
      "image/png": "[encoded data removed]",
      "text/plain": [
       "<Figure size 432x288 with 1 Axes>"
      ]
     },
     "metadata": {},
     "output_type": "display_data"
    }
   ],
   "source": [
    "#Visualization\n",
    "import seaborn as sns\n",
    "sns.set(color_codes=True)\n",
    "print(\"Distribution feature 1 :\")\n",
    "#sns.distplot(x_shuffled[0,:]);\n",
    "sns.distplot(X[0,:])"
   ]
  },
  {
   "cell_type": "code",
   "execution_count": 78,
   "metadata": {},
   "outputs": [
    {
     "name": "stdout",
     "output_type": "stream",
     "text": [
      "Seed of Randomization   : 3\n",
      "\n",
      "Shape of Training set X : (4, 1097)\n",
      "Shape of Training set Y : (1, 1097)\n",
      "\n",
      "Shape of Test set   X   : (4, 275)\n",
      "Shape of Test set Y     : (1, 275)\n"
     ]
    }
   ],
   "source": [
    "#Splitting into Train, Test sets ( with a fixed seed )\n",
    "train_split_percent = 80\n",
    "test_split_percent = 20\n",
    "\n",
    "train_X , test_X = X[:, : int( (train_split_percent/100)*X.shape[1])] , X[:,int( (train_split_percent/100)*X.shape[1]) : ]\n",
    "train_Y , test_Y = Y[:, : int( (train_split_percent/100)*X.shape[1])] , Y[:,int( (train_split_percent/100)*X.shape[1]) : ]\n",
    "print(\"Seed of Randomization   : \"+str(seed))\n",
    "print(\"\\nShape of Training set X : \"+str(train_X.shape))\n",
    "print(\"Shape of Training set Y : \"+str(train_Y.shape))\n",
    "print(\"\\nShape of Test set   X   : \"+str(test_X.shape))\n",
    "print(\"Shape of Test set Y     : \"+str(test_Y.shape))"
   ]
  },
  {
   "cell_type": "code",
   "execution_count": 79,
   "metadata": {},
   "outputs": [
    {
     "data": {
      "text/plain": [
       "<matplotlib.axes._subplots.AxesSubplot at 0x1829d7f7e88>"
      ]
     },
     "execution_count": 79,
     "metadata": {},
     "output_type": "execute_result"
    },
    {
     "data": {
      "image/png": "[encoded data removed]",
      "text/plain": [
       "<Figure size 432x288 with 1 Axes>"
      ]
     },
     "metadata": {},
     "output_type": "display_data"
    }
   ],
   "source": [
    "sns.distplot(X[0,:],hist=False)\n",
    "sns.distplot(train_X[0,:],hist=False)\n",
    "sns.distplot(test_X[0,:],hist=False)"
   ]
  },
  {
   "cell_type": "code",
   "execution_count": 80,
   "metadata": {},
   "outputs": [
    {
     "name": "stdout",
     "output_type": "stream",
     "text": [
      "No of training examples : 1097\n",
      "No of test example      : 275\n"
     ]
    }
   ],
   "source": [
    "m_train = train_X.shape[1]   #no. of training examples\n",
    "m_test  = test_X.shape[1]    #no. of test examples\n",
    "print(\"No of training examples : \"+str(m_train))\n",
    "print(\"No of test example      : \"+str(m_test))"
   ]
  },
  {
   "cell_type": "code",
   "execution_count": 81,
   "metadata": {},
   "outputs": [
    {
     "name": "stdout",
     "output_type": "stream",
     "text": [
      "Standardize train_X : (4, 1097)\n",
      "\n",
      "[[-0.37095945  1.53525151  1.26981427 ...  1.02915071 -1.64608924\n",
      "   1.17511831]\n",
      " [-0.23243133  0.86306915 -1.07609556 ...  1.43761375 -2.55428489\n",
      "   0.90080624]\n",
      " [-0.41395243 -0.78782856  0.77730177 ... -1.19015337  3.64723734\n",
      "  -0.71464694]\n",
      " [ 0.25112591  0.40073686  1.10875348 ... -1.1938801  -0.76659709\n",
      "   0.11628941]]\n",
      "\n",
      "Means of features              : \n",
      "[[-0.01327993]\n",
      " [-0.00666567]\n",
      " [ 0.02132551]\n",
      " [-0.01137951]]\n",
      "\n",
      "Standard Deviation of features : \n",
      "[[1.01564092]\n",
      " [1.01319481]\n",
      " [1.0175416 ]\n",
      " [1.00909945]]\n",
      "\n",
      "\n",
      "Standardize test_X : (4, 275)\n",
      "\n",
      "[[-0.3789933   0.20926179 -0.27940243 ... -0.84076893 -0.60468005\n",
      "  -0.98575122]\n",
      " [ 0.09416322  1.33710083 -1.08598152 ... -0.29239137  0.22995878\n",
      "  -0.40208289]\n",
      " [-1.00797687 -0.64206879  0.16457691 ... -0.03489116 -0.73453804\n",
      "   0.0683244 ]\n",
      " [ 0.07811295 -0.28265408  1.01642149 ...  0.39088564 -0.98519039\n",
      "   0.36256517]]\n"
     ]
    }
   ],
   "source": [
    "#train_X = standardize(train_X)\n",
    "print(\"Standardize train_X : \"+str(train_X.shape)+\"\\n\\n\"+str(train_X))\n",
    "print(\"\\nMeans of features              : \\n\"+str(np.mean(train_X,axis=1,keepdims=True)))\n",
    "print(\"\\nStandard Deviation of features : \\n\"+str(np.std(train_X,axis=1,keepdims=True)))\n",
    "#test_X  = standardize(test_X)\n",
    "print(\"\\n\\nStandardize test_X : \"+str(test_X.shape)+\"\\n\\n\"+str(test_X))"
   ]
  },
  {
   "cell_type": "code",
   "execution_count": 82,
   "metadata": {},
   "outputs": [],
   "source": [
    "# Starting with our problem now"
   ]
  },
  {
   "cell_type": "code",
   "execution_count": 83,
   "metadata": {},
   "outputs": [],
   "source": [
    "def sigmoid(Z):\n",
    "    sigz= 1/(1+np.exp(-Z))\n",
    "    sigz[sigz==1] = 0.999999999999\n",
    "    sigz[sigz==0] = 0.000000000001\n",
    "    return sigz    "
   ]
  },
  {
   "cell_type": "code",
   "execution_count": 84,
   "metadata": {},
   "outputs": [
    {
     "name": "stdout",
     "output_type": "stream",
     "text": [
      "w : [0. 0. 0. ... 0. 0. 0.]\n",
      "b : 0\n"
     ]
    }
   ],
   "source": [
    "#Initializing parameters\n",
    "w, b = np.zeros(train_X.shape[1]), 0 \n",
    "print(\"w : \"+str(w))\n",
    "print(\"b : \"+str(b))"
   ]
  },
  {
   "cell_type": "code",
   "execution_count": 85,
   "metadata": {},
   "outputs": [],
   "source": [
    "def calculate(w,b,X,Y):\n",
    "    m = X.shape[1]\n",
    "   #Vectorized Implementation\n",
    "    A = sigmoid(np.dot(w.T,X)+b)\n",
    "    \n",
    "    #Average of loss over m examples \n",
    "    cost = (-1/m)*np.sum(np.multiply(Y,np.log(A))+np.multiply(1-Y,np.log(1-A)))\n",
    "    \n",
    "    L2_cost = lambd2*(np.sum(np.square(w)))/(2*m)\n",
    "    L1_cost = lambd1*(np.sum(np.abs(w)))/m\n",
    "    cost = cost + L2_cost + L1_cost\n",
    "    cost = np.squeeze(cost) \n",
    "    \n",
    "    #Gradient\n",
    "    w_temp=np.sign(w)\n",
    "    \n",
    "    l1_grad = (lambd1/m)*w_temp\n",
    "    \n",
    "    dw = (1/m)*np.dot(X,(A-Y).T) + (lambd2/m)*w  + l1_grad\n",
    "    db = (1/m)*np.sum(A-Y)\n",
    "    \n",
    "    grads = { 'dw':dw, 'db':db}\n",
    "    \n",
    "    return cost, grads"
   ]
  },
  {
   "cell_type": "code",
   "execution_count": 86,
   "metadata": {},
   "outputs": [],
   "source": [
    "def gradient_descent(w, b, X, Y, epochs, alpha, print_cost = False, print_after=100):\n",
    "    \n",
    "    costs = []\n",
    "    for i in range(epochs):  \n",
    "         \n",
    "        alpha_decayed = alpha/(1+decay_rate*i)     \n",
    "        cost, grads = calculate(w, b, X, Y)\n",
    "        dw = grads['dw']\n",
    "        db = grads['db']\n",
    "        w = w-alpha_decayed*dw\n",
    "        b = b-alpha_decayed*db\n",
    "    \n",
    "        if i%1 ==0:\n",
    "            costs.append(cost)\n",
    "        if print_cost and i % print_after == 0:\n",
    "            print (\"Cost after #epochs %i: %f\" %(i, cost))\n",
    "            \n",
    "    parameters = {\"w\": w, \"b\": b}\n",
    "    gradients = {\"dw\": dw, \"db\": db}\n",
    "    \n",
    "    return parameters, gradients, costs      \n",
    "  "
   ]
  },
  {
   "cell_type": "code",
   "execution_count": 87,
   "metadata": {},
   "outputs": [],
   "source": [
    "def predict(w, b, X):\n",
    "    m= X.shape[1]\n",
    "    Y_prediction = np.zeros((1,m))\n",
    "    \n",
    "    A=sigmoid(np.dot(w.T,X)+b)\n",
    "    \n",
    "    for i in range(A.shape[1]):\n",
    "          Y_prediction[0, i] = 1 if A[0, i] > 0.5 else 0\n",
    "    \n",
    "    return Y_prediction"
   ]
  },
  {
   "cell_type": "code",
   "execution_count": 88,
   "metadata": {},
   "outputs": [],
   "source": [
    "def evaluate(Y,Yhat,Set):\n",
    "    spos=0\n",
    "    \n",
    "    for i in range(Y.shape[1]): \n",
    "        if Y[0,i]==1 and Yhat[0,i]==1:\n",
    "            spos = spos+1\n",
    "            \n",
    "    p = spos /np.sum(Yhat == 1)\n",
    "    r = spos/ np.sum( Y == 1)\n",
    "    acc = np.mean(Y == Yhat)\n",
    "    f1score = 2*p*r/(p+r)\n",
    "    \n",
    "    data = [{'Precision': p, 'Recall': r, 'Accuracy': acc,'F-score': f1score}] \n",
    "    df = pd.DataFrame(data)\n",
    "    \n",
    "    print(\"\\n\"+Set+\":\")\n",
    "    display(df)\n",
    "    \n",
    "    return"
   ]
  },
  {
   "cell_type": "code",
   "execution_count": 89,
   "metadata": {},
   "outputs": [],
   "source": [
    "def model(train_X, train_Y, test_X, test_Y, epochs = 2000, learning_rate = 0.5, print_cost = False,print_after=100):\n",
    "\n",
    "    w, b = np.zeros((4,1)),0\n",
    "    tic = time.time()\n",
    "    parameters, grads, costs = gradient_descent(w, b, train_X, train_Y, epochs, learning_rate, print_cost,print_after)\n",
    "    \n",
    "\n",
    "    w = parameters[\"w\"]\n",
    "    b = parameters[\"b\"]\n",
    "    \n",
    "\n",
    "    test_Yhat = predict(w, b, test_X)\n",
    "    train_Yhat = predict(w, b, train_X)\n",
    "    \n",
    "    toc= time.time()\n",
    "    \n",
    "    plt.plot(np.squeeze(costs))\n",
    "    plt.ylabel('cost')\n",
    "    plt.xlabel(\"iterations (per \"+str(print_after)+\" )\")\n",
    "    plt.title(\"Learning rate =\" + str(learning_rate))\n",
    "    plt.show()\n",
    "    \n",
    "    evaluate(test_Y,test_Yhat,\"Test \")\n",
    "\n",
    "    time_t = (toc-tic)*1000\n",
    "    print(\"Time taken by the model : \"+str((toc-tic))+\" sec\\n\")\n",
    "    \n",
    "    return parameters"
   ]
  },
  {
   "cell_type": "code",
   "execution_count": 91,
   "metadata": {},
   "outputs": [
    {
     "name": "stdout",
     "output_type": "stream",
     "text": [
      "Cost after #epochs 0: 0.693147\n",
      "Cost after #epochs 20: 0.057601\n",
      "Cost after #epochs 40: 0.046126\n",
      "Cost after #epochs 60: 0.041114\n",
      "Cost after #epochs 80: 0.038137\n",
      "Cost after #epochs 100: 0.036102\n",
      "Cost after #epochs 120: 0.034594\n",
      "Cost after #epochs 140: 0.033417\n",
      "Cost after #epochs 160: 0.032463\n",
      "Cost after #epochs 180: 0.031670\n",
      "Cost after #epochs 200: 0.030996\n",
      "Cost after #epochs 220: 0.030414\n"
     ]
    },
    {
     "data": {
      "image/png": "[encoded data removed]",
      "text/plain": [
       "<Figure size 432x288 with 1 Axes>"
      ]
     },
     "metadata": {},
     "output_type": "display_data"
    },
    {
     "name": "stdout",
     "output_type": "stream",
     "text": [
      "\n",
      "Test :\n"
     ]
    },
    {
     "data": {
      "text/html": [
       "<div>\n",
       "<style scoped>\n",
       "    .dataframe tbody tr th:only-of-type {\n",
       "        vertical-align: middle;\n",
       "    }\n",
       "\n",
       "    .dataframe tbody tr th {\n",
       "        vertical-align: top;\n",
       "    }\n",
       "\n",
       "    .dataframe thead th {\n",
       "        text-align: right;\n",
       "    }\n",
       "</style>\n",
       "<table border=\"1\" class=\"dataframe\">\n",
       "  <thead>\n",
       "    <tr style=\"text-align: right;\">\n",
       "      <th></th>\n",
       "      <th>Precision</th>\n",
       "      <th>Recall</th>\n",
       "      <th>Accuracy</th>\n",
       "      <th>F-score</th>\n",
       "    </tr>\n",
       "  </thead>\n",
       "  <tbody>\n",
       "    <tr>\n",
       "      <td>0</td>\n",
       "      <td>0.992063</td>\n",
       "      <td>1.0</td>\n",
       "      <td>0.996364</td>\n",
       "      <td>0.996016</td>\n",
       "    </tr>\n",
       "  </tbody>\n",
       "</table>\n",
       "</div>"
      ],
      "text/plain": [
       "   Precision  Recall  Accuracy   F-score\n",
       "0   0.992063     1.0  0.996364  0.996016"
      ]
     },
     "metadata": {},
     "output_type": "display_data"
    },
    {
     "name": "stdout",
     "output_type": "stream",
     "text": [
      "Time taken by the model : 0.04484367370605469 sec\n",
      "\n"
     ]
    }
   ],
   "source": [
    "lambd1 = 0\n",
    "lambd2 = 0\n",
    "decay_rate=0\n",
    "\n",
    "parameters = model(train_X, train_Y, test_X,test_Y, \n",
    "                   epochs = 240, learning_rate =10, print_cost = True,print_after=20)"
   ]
  },
  {
   "cell_type": "code",
   "execution_count": null,
   "metadata": {},
   "outputs": [],
   "source": []
  }
 ],
 "metadata": {
  "kernelspec": {
   "display_name": "Python 3",
   "language": "python",
   "name": "python3"
  },
  "language_info": {
   "codemirror_mode": {
    "name": "ipython",
    "version": 3
   },
   "file_extension": ".py",
   "mimetype": "text/x-python",
   "name": "python",
   "nbconvert_exporter": "python",
   "pygments_lexer": "ipython3",
   "version": "3.7.4"
  }
 },
 "nbformat": 4,
 "nbformat_minor": 4
}
