{
 "cells": [
  {
   "cell_type": "code",
   "execution_count": 34,
   "metadata": {},
   "outputs": [],
   "source": [
    "import numpy as np\n",
    "import matplotlib.pyplot as plt\n",
    "import time\n",
    "%matplotlib inline\n",
    "\n",
    "#importing original dataset\n",
    "data_orig = np.loadtxt('a2_data/data_banknote_authentication.txt', delimiter=',')"
   ]
  },
  {
   "cell_type": "code",
   "execution_count": 35,
   "metadata": {},
   "outputs": [
    {
     "name": "stdout",
     "output_type": "stream",
     "text": [
      "Dataset : \n",
      "\n",
      "[[  3.6216    8.6661   -2.8073   -0.44699   0.     ]\n",
      " [  4.5459    8.1674   -2.4586   -1.4621    0.     ]\n",
      " [  3.866    -2.6383    1.9242    0.10645   0.     ]\n",
      " ...\n",
      " [ -3.7503  -13.4586   17.5932   -2.7771    1.     ]\n",
      " [ -3.5637   -8.3827   12.393    -1.2823    1.     ]\n",
      " [ -2.5419   -0.65804   2.6842    1.1952    1.     ]]\n",
      "\n",
      "Dimensions of dataset : (1372, 5)\n"
     ]
    }
   ],
   "source": [
    "#Dataset : \n",
    "\n",
    "print(\"Dataset : \\n\\n\"+ str(data_orig))\n",
    "print(\"\\nDimensions of dataset : \"+str(data_orig.shape))"
   ]
  },
  {
   "cell_type": "code",
   "execution_count": null,
   "metadata": {},
   "outputs": [],
   "source": []
  },
  {
   "cell_type": "code",
   "execution_count": 36,
   "metadata": {},
   "outputs": [],
   "source": [
    "#Seed for np.random\n",
    "seed=0\n",
    "np.random.seed(seed)    "
   ]
  },
  {
   "cell_type": "code",
   "execution_count": 37,
   "metadata": {},
   "outputs": [],
   "source": [
    "#Shuffling imported original dataset\n",
    "np.random.shuffle(data_orig)  "
   ]
  },
  {
   "cell_type": "code",
   "execution_count": 38,
   "metadata": {},
   "outputs": [
    {
     "name": "stdout",
     "output_type": "stream",
     "text": [
      "Shuffled dataset with (Seed 0) :\n",
      "\n",
      "[[ -1.7713   -10.7665    10.2184    -1.0043     1.      ]\n",
      " [  5.1321    -0.031048   0.32616    1.1151     0.      ]\n",
      " [ -2.0149     3.6874    -1.9385    -3.8918     1.      ]\n",
      " ...\n",
      " [  0.6005     0.99945   -2.2126     0.097399   1.      ]\n",
      " [  2.0165    -0.25246    5.1707     1.0763     0.      ]\n",
      " [ -2.0759    10.8223     2.6439    -4.837      0.      ]]\n"
     ]
    }
   ],
   "source": [
    "#Shuffled dataset\n",
    "print(\"Shuffled dataset with (Seed \"+str(seed) +\") :\\n\\n\"+str(data_orig))"
   ]
  },
  {
   "cell_type": "code",
   "execution_count": 39,
   "metadata": {},
   "outputs": [
    {
     "name": "stdout",
     "output_type": "stream",
     "text": [
      "Output Y   :[1. 0. 1. ... 1. 0. 0.]\n",
      "Shape of Y : (1372,)\n",
      "Number of 0s : 762.0\n",
      "Number of 1s : 610.0\n"
     ]
    }
   ],
   "source": [
    "#Extacting Y\n",
    "y_orig = data_orig[:,-1]\n",
    "print(\"Output Y   :\"+str(y_orig))\n",
    "print(\"Shape of Y : \"+str(y_orig.shape))\n",
    "print(\"Number of 0s : \"+str(y_orig.shape[0]-np.sum(y_orig)))\n",
    "print(\"Number of 1s : \"+str(np.sum(y_orig)))"
   ]
  },
  {
   "cell_type": "code",
   "execution_count": 40,
   "metadata": {},
   "outputs": [
    {
     "name": "stdout",
     "output_type": "stream",
     "text": [
      "Shape of Y: (1, 1372)\n"
     ]
    }
   ],
   "source": [
    "#Getting rid of Rank 1 array\n",
    "Y = np.reshape(y_orig,(y_orig.shape[0],1)).T    \n",
    "print(\"Shape of Y: \"+ str(Y.shape))"
   ]
  },
  {
   "cell_type": "code",
   "execution_count": 41,
   "metadata": {},
   "outputs": [
    {
     "name": "stdout",
     "output_type": "stream",
     "text": [
      "Input set : \n",
      "\n",
      "[[ -1.7713     5.1321    -2.0149   ...   0.6005     2.0165    -2.0759  ]\n",
      " [-10.7665    -0.031048   3.6874   ...   0.99945   -0.25246   10.8223  ]\n",
      " [ 10.2184     0.32616   -1.9385   ...  -2.2126     5.1707     2.6439  ]\n",
      " [ -1.0043     1.1151    -3.8918   ...   0.097399   1.0763    -4.837   ]]\n"
     ]
    }
   ],
   "source": [
    "#Extracting vectorized input feature X (transposed)\n",
    "x_shuffled = data_orig[:,(0,1,2,3)].T\n",
    "print(\"Input set : \\n\\n\" +str(x_shuffled))"
   ]
  },
  {
   "cell_type": "code",
   "execution_count": 61,
   "metadata": {},
   "outputs": [
    {
     "name": "stdout",
     "output_type": "stream",
     "text": [
      "(4, 1372)\n"
     ]
    }
   ],
   "source": [
    "print(x_shuffled.shape)"
   ]
  },
  {
   "cell_type": "code",
   "execution_count": 78,
   "metadata": {},
   "outputs": [],
   "source": [
    "def standardize(x):\n",
    "    \"\"\"\n",
    "    Input  :  Numpy array x \n",
    "    Output :  Numpy array of same shape as X but standardized along each rows\n",
    "    \n",
    "    \"\"\"\n",
    "    x_mean = np.mean(x,axis=1, keepdims=True)\n",
    "    x_std = np.std(x, axis=1, keepdims=True)\n",
    "\n",
    "    #print(\"Mean of each row : \\n\\n\"+str(x_mean))\n",
    "    #print(\"\\nStandard deviation of each row : \\n\\n\"+str(x_std))\n",
    "\n",
    "    X = (x - x_mean)  #Python Broadcasting\n",
    "    X = X/x_std\n",
    "    return X"
   ]
  },
  {
   "cell_type": "code",
   "execution_count": 79,
   "metadata": {},
   "outputs": [
    {
     "name": "stdout",
     "output_type": "stream",
     "text": [
      "Standardizd Input X : \n",
      "\n",
      "[[-0.77594917  1.65334873 -0.86167171 ...  0.05868431  0.55697295\n",
      "  -0.88313754]\n",
      " [-2.16278391 -0.33295243  0.30084791 ... -0.15730657 -0.37069157\n",
      "   1.51697413]\n",
      " [ 2.04731499 -0.24868917 -0.77432025 ... -0.83793928  0.87573603\n",
      "   0.28926186]\n",
      " [ 0.08920688  1.09832613 -1.2856312  ...  0.61376368  1.07985212\n",
      "  -1.73567343]]\n",
      "\n",
      "Means of features              : \n",
      "[[-1.42419280e-17]\n",
      " [-7.05622797e-17]\n",
      " [ 1.58603289e-17]\n",
      " [ 4.72573066e-17]]\n",
      "\n",
      "Standard Deviation of features : \n",
      "[[1.]\n",
      " [1.]\n",
      " [1.]\n",
      " [1.]]\n"
     ]
    }
   ],
   "source": [
    "#Standardizing shuffled input X\n",
    "X = standardize(x_shuffled)\n",
    "print(\"Standardizd Input X : \\n\\n\"+str(X))\n",
    "print(\"\\nMeans of features              : \\n\"+str(np.mean(X,axis=1,keepdims=True)))\n",
    "print(\"\\nStandard Deviation of features : \\n\"+str(np.std(X,axis=1,keepdims=True)))"
   ]
  },
  {
   "cell_type": "code",
   "execution_count": 80,
   "metadata": {},
   "outputs": [
    {
     "name": "stdout",
     "output_type": "stream",
     "text": [
      "Seed of Randomization   : 0\n",
      "\n",
      "Shape of Training set X : (4, 1097)\n",
      "Shape of Training set Y : (1, 1097)\n",
      "\n",
      "Shape of Test set   X   : (4, 275)\n",
      "Shape of Test set Y     : (1, 275)\n"
     ]
    }
   ],
   "source": [
    "#Splitting into Train, Test sets ( with a fixed seed )\n",
    "train_split_percent = 80\n",
    "test_split_percent = 20\n",
    "\n",
    "train_X , test_X = X[:, : int( (train_split_percent/100)*X.shape[1])] , X[:,int( (train_split_percent/100)*X.shape[1]) : ]\n",
    "train_Y , test_Y = Y[:, : int( (train_split_percent/100)*X.shape[1])] , Y[:,int( (train_split_percent/100)*X.shape[1]) : ]\n",
    "print(\"Seed of Randomization   : \"+str(seed))\n",
    "print(\"\\nShape of Training set X : \"+str(train_X.shape))\n",
    "print(\"Shape of Training set Y : \"+str(train_Y.shape))\n",
    "print(\"\\nShape of Test set   X   : \"+str(test_X.shape))\n",
    "print(\"Shape of Test set Y     : \"+str(test_Y.shape))"
   ]
  },
  {
   "cell_type": "code",
   "execution_count": 81,
   "metadata": {},
   "outputs": [
    {
     "name": "stdout",
     "output_type": "stream",
     "text": [
      "No of training examples : 1097\n",
      "No of test example      : 275\n"
     ]
    }
   ],
   "source": [
    "m_train = train_X.shape[1]   #no. of training examples\n",
    "m_test  = test_X.shape[1]    #no. of test examples\n",
    "print(\"No of training examples : \"+str(m_train))\n",
    "print(\"No of test example      : \"+str(m_test))"
   ]
  },
  {
   "cell_type": "code",
   "execution_count": 82,
   "metadata": {},
   "outputs": [
    {
     "name": "stdout",
     "output_type": "stream",
     "text": [
      "Standardize train_X : (4, 1097)\n",
      "\n",
      "[[-0.77594917  1.65334873 -0.86167171 ... -0.03451608  0.46305117\n",
      "   1.62276873]\n",
      " [-2.16278391 -0.33295243  0.30084791 ...  0.83767247 -0.3576421\n",
      "   0.33647145]\n",
      " [ 2.04731499 -0.24868917 -0.77432025 ... -0.16257486  0.87852125\n",
      "  -0.65638946]\n",
      " [ 0.08920688  1.09832613 -1.2856312  ...  0.30222465  1.18264954\n",
      "   0.9782498 ]]\n",
      "\n",
      "Means of features              : \n",
      "[[ 0.00330544]\n",
      " [-0.00980325]\n",
      " [ 0.01036772]\n",
      " [ 0.01179597]]\n",
      "\n",
      "Standard Deviation of features : \n",
      "[[1.00354008]\n",
      " [0.99904738]\n",
      " [0.99977808]\n",
      " [0.98720635]]\n",
      "\n",
      "\n",
      "Standardize test_X : (4, 275)\n",
      "\n",
      "[[ 1.26981427 -2.21933232 -0.60468005 ...  0.05868431  0.55697295\n",
      "  -0.88313754]\n",
      " [-1.07609556  1.23622997  0.22995878 ... -0.15730657 -0.37069157\n",
      "   1.51697413]\n",
      " [ 0.77730177 -0.38809864 -0.73453804 ... -0.83793928  0.87573603\n",
      "   0.28926186]\n",
      " [ 1.10875348 -2.30951061 -0.98519039 ...  0.61376368  1.07985212\n",
      "  -1.73567343]]\n"
     ]
    }
   ],
   "source": [
    "#train_X = standardize(train_X)\n",
    "print(\"Standardize train_X : \"+str(train_X.shape)+\"\\n\\n\"+str(train_X))\n",
    "print(\"\\nMeans of features              : \\n\"+str(np.mean(train_X,axis=1,keepdims=True)))\n",
    "print(\"\\nStandard Deviation of features : \\n\"+str(np.std(train_X,axis=1,keepdims=True)))\n",
    "#test_X  = standardize(test_X)\n",
    "print(\"\\n\\nStandardize test_X : \"+str(test_X.shape)+\"\\n\\n\"+str(test_X))"
   ]
  },
  {
   "cell_type": "code",
   "execution_count": 83,
   "metadata": {},
   "outputs": [],
   "source": [
    "# Starting with our problem now"
   ]
  },
  {
   "cell_type": "code",
   "execution_count": 84,
   "metadata": {},
   "outputs": [],
   "source": [
    "#First programming all helper function then will integrate the function"
   ]
  },
  {
   "cell_type": "code",
   "execution_count": 85,
   "metadata": {},
   "outputs": [],
   "source": [
    "def sigmoid(z):\n",
    "    \"\"\"\n",
    "    Input  : Scalar or Numpy array z\n",
    "    Output : sigmoid of z\n",
    "    \"\"\"\n",
    "    return 1/(1+np.exp(-1*z))\n",
    "    "
   ]
  },
  {
   "cell_type": "code",
   "execution_count": 86,
   "metadata": {},
   "outputs": [
    {
     "name": "stdout",
     "output_type": "stream",
     "text": [
      "0.5\n",
      "1.0\n",
      "0.6224593312018546\n",
      "[0.62245933 0.73105858 0.9999546 ]\n"
     ]
    }
   ],
   "source": [
    "#Testing Sigmoid\n",
    "print(sigmoid(0))\n",
    "print(sigmoid(1000000000000000))\n",
    "print(sigmoid(0.5))\n",
    "print(sigmoid(np.array([0.5,1, 10])))"
   ]
  },
  {
   "cell_type": "code",
   "execution_count": 87,
   "metadata": {},
   "outputs": [
    {
     "name": "stdout",
     "output_type": "stream",
     "text": [
      "w : [0. 0. 0. ... 0. 0. 0.]\n",
      "b : 0\n"
     ]
    }
   ],
   "source": [
    "#Initializing parameters\n",
    "w, b = np.zeros((train_X.shape[1])), 0 \n",
    "print(\"w : \"+str(w))\n",
    "print(\"b : \"+str(b))"
   ]
  },
  {
   "cell_type": "code",
   "execution_count": 88,
   "metadata": {},
   "outputs": [],
   "source": [
    "def calculate(w,b,X,Y):\n",
    "    \"\"\"\n",
    "    Input : w - wieghts, Numpy array, Real \n",
    "            b - bias, Scalar\n",
    "            X - Input matrix, dim = (4,m_X) , Real Matrix\n",
    "            Y - Output Vector, dim = (1,m_X), Discrete 0/1\n",
    "    \n",
    "    Output: cost - cross entropy loss\n",
    "            dw   - gradient of the loss with respect to w, thus same shape as w\n",
    "            db   - gradient of the loss with respect to b, thus same shape as b\n",
    "    \"\"\"\n",
    "    m = X.shape[1]\n",
    "   #Vectorized Implementation\n",
    "    A = sigmoid(np.dot(w.T,X)+b)\n",
    "    \n",
    "    #Average of loss over m examples \n",
    "    cost = (-1/m)*np.sum(np.multiply(Y,np.log(A))+np.multiply(1-Y,np.log(1-A)))  \n",
    "    \n",
    "    #Gradient\n",
    "    dw = (1/m)*np.dot(X,(A-Y).T)    #Vectorized Implementation\n",
    "    db = (1/m)*np.sum(A-Y)\n",
    "    \n",
    "    grads = { 'dw':dw, 'db':db}\n",
    "    \n",
    "    return cost, grads"
   ]
  },
  {
   "cell_type": "code",
   "execution_count": 89,
   "metadata": {},
   "outputs": [],
   "source": [
    "def gradient_descent(w, b, X, Y, num_iterations, alpha, print_cost = False, print_after=100):\n",
    "    \n",
    "    costs = []\n",
    "    for i in range(num_iterations):  \n",
    "            \n",
    "        cost, grads = calculate(w, b, X, Y)\n",
    "        dw = grads['dw']\n",
    "        db = grads['db']\n",
    "        w = w-alpha*dw\n",
    "        b = b-alpha*db\n",
    "    \n",
    "        if i%100 ==0:\n",
    "            costs.append(cost)\n",
    "        if print_cost and i % print_after == 0:\n",
    "            print (\"Cost after iteration %i: %f\" %(i, cost))\n",
    "            \n",
    "    parameters = {\"w\": w, \"b\": b}\n",
    "    gradients = {\"dw\": dw, \"db\": db}\n",
    "    \n",
    "    return parameters, gradients, costs      \n",
    "  "
   ]
  },
  {
   "cell_type": "code",
   "execution_count": 90,
   "metadata": {},
   "outputs": [],
   "source": [
    "def predict(w, b, X):\n",
    "    m= X.shape[1]\n",
    "    Y_prediction = np.zeros((1,m))\n",
    "    \n",
    "    A=sigmoid(np.dot(w.T,X)+b)\n",
    "    assert(A.shape==(1,m))\n",
    "    \n",
    "    for i in range(A.shape[1]):\n",
    "          Y_prediction[0, i] = 1 if A[0, i] > 0.5 else 0\n",
    "            \n",
    "    assert(Y_prediction.shape == (1, m))\n",
    "    \n",
    "    return Y_prediction"
   ]
  },
  {
   "cell_type": "code",
   "execution_count": 91,
   "metadata": {},
   "outputs": [],
   "source": [
    "def accuracy(Y,Yhat):\n",
    "    print(\"Shape : \"+str(Y.shape[1]))\n",
    "    return (np.sum(np.equal(Y,Yhat))/Y.shape[1])*100"
   ]
  },
  {
   "cell_type": "code",
   "execution_count": 92,
   "metadata": {},
   "outputs": [
    {
     "name": "stdout",
     "output_type": "stream",
     "text": [
      "2\n"
     ]
    }
   ],
   "source": [
    "print((np.sum(np.equal([1,1,0], [0,1,0]))))"
   ]
  },
  {
   "cell_type": "code",
   "execution_count": 93,
   "metadata": {},
   "outputs": [],
   "source": [
    "def model(train_X, train_Y, test_X, test_Y, num_iterations = 2000, learning_rate = 0.5, print_cost = False,print_after=100):\n",
    "\n",
    "    w, b = np.zeros((4,1)),0\n",
    "    tic = time.time()\n",
    "    parameters, grads, costs = gradient_descent(w, b, train_X, train_Y, num_iterations, learning_rate, print_cost,print_after)\n",
    "    \n",
    "\n",
    "    w = parameters[\"w\"]\n",
    "    b = parameters[\"b\"]\n",
    "    \n",
    "\n",
    "    test_Yhat = predict(w, b, test_X)\n",
    "    train_Yhat = predict(w, b, train_X)\n",
    "    \n",
    "    toc= time.time()\n",
    "    print(\"train accuracy: {} %\".format(100 - np.mean(np.abs(train_Yhat - train_Y)) * 100))\n",
    "    print(\"test accuracy: {} %\".format(100 - np.mean(np.abs(test_Yhat - test_Y)) * 100))\n",
    "\n",
    "    \n",
    "    d = {\"costs\": costs,\n",
    "         \"Y_prediction_test\": test_Yhat, \n",
    "         \"Y_prediction_train\" : train_Yhat, \n",
    "         \"w\" : w, \n",
    "         \"b\" : b,\n",
    "         \"learning_rate\" : learning_rate,\n",
    "         \"num_iterations\": num_iterations}\n",
    "    time_t = (toc-tic)*1000\n",
    "    print(\"Time taken by the model : \"+str((toc-tic))+\" sec\")\n",
    "    return d"
   ]
  },
  {
   "cell_type": "code",
   "execution_count": 94,
   "metadata": {},
   "outputs": [
    {
     "name": "stdout",
     "output_type": "stream",
     "text": [
      "Cost after iteration 0: 0.693147\n",
      "Cost after iteration 2000: 0.032939\n",
      "Cost after iteration 4000: 0.028339\n",
      "Cost after iteration 6000: 0.026273\n",
      "Cost after iteration 8000: 0.025048\n",
      "Cost after iteration 10000: 0.024223\n",
      "Cost after iteration 12000: 0.023624\n",
      "Cost after iteration 14000: 0.023166\n",
      "Cost after iteration 16000: 0.022803\n",
      "Cost after iteration 18000: 0.022509\n",
      "Cost after iteration 20000: 0.022265\n",
      "Cost after iteration 22000: 0.022059\n",
      "Cost after iteration 24000: 0.021883\n",
      "Cost after iteration 26000: 0.021731\n",
      "Cost after iteration 28000: 0.021598\n",
      "Cost after iteration 30000: 0.021482\n",
      "train accuracy: 99.08842297174111 %\n",
      "test accuracy: 99.27272727272727 %\n",
      "Time taken by the model : 2.464763641357422 sec\n"
     ]
    }
   ],
   "source": [
    "d = model(train_X, train_Y, test_X, test_Y, num_iterations = 30001, learning_rate = 0.85, print_cost = True,print_after=2000)"
   ]
  },
  {
   "cell_type": "markdown",
   "metadata": {},
   "source": [
    "# "
   ]
  },
  {
   "cell_type": "code",
   "execution_count": null,
   "metadata": {},
   "outputs": [],
   "source": []
  },
  {
   "cell_type": "code",
   "execution_count": null,
   "metadata": {},
   "outputs": [],
   "source": []
  },
  {
   "cell_type": "code",
   "execution_count": null,
   "metadata": {},
   "outputs": [],
   "source": []
  },
  {
   "cell_type": "code",
   "execution_count": null,
   "metadata": {},
   "outputs": [],
   "source": []
  },
  {
   "cell_type": "code",
   "execution_count": null,
   "metadata": {},
   "outputs": [],
   "source": []
  },
  {
   "cell_type": "code",
   "execution_count": null,
   "metadata": {},
   "outputs": [],
   "source": []
  },
  {
   "cell_type": "code",
   "execution_count": null,
   "metadata": {},
   "outputs": [],
   "source": []
  },
  {
   "cell_type": "code",
   "execution_count": null,
   "metadata": {},
   "outputs": [],
   "source": []
  },
  {
   "cell_type": "code",
   "execution_count": null,
   "metadata": {},
   "outputs": [],
   "source": []
  },
  {
   "cell_type": "code",
   "execution_count": null,
   "metadata": {},
   "outputs": [],
   "source": []
  },
  {
   "cell_type": "code",
   "execution_count": null,
   "metadata": {},
   "outputs": [],
   "source": []
  },
  {
   "cell_type": "code",
   "execution_count": null,
   "metadata": {},
   "outputs": [],
   "source": []
  },
  {
   "cell_type": "code",
   "execution_count": null,
   "metadata": {},
   "outputs": [],
   "source": []
  },
  {
   "cell_type": "code",
   "execution_count": null,
   "metadata": {},
   "outputs": [],
   "source": []
  },
  {
   "cell_type": "code",
   "execution_count": null,
   "metadata": {},
   "outputs": [],
   "source": []
  },
  {
   "cell_type": "code",
   "execution_count": null,
   "metadata": {},
   "outputs": [],
   "source": []
  },
  {
   "cell_type": "code",
   "execution_count": null,
   "metadata": {},
   "outputs": [],
   "source": []
  }
 ],
 "metadata": {
  "kernelspec": {
   "display_name": "Python 3",
   "language": "python",
   "name": "python3"
  },
  "language_info": {
   "codemirror_mode": {
    "name": "ipython",
    "version": 3
   },
   "file_extension": ".py",
   "mimetype": "text/x-python",
   "name": "python",
   "nbconvert_exporter": "python",
   "pygments_lexer": "ipython3",
   "version": "3.7.4"
  }
 },
 "nbformat": 4,
 "nbformat_minor": 4
}
