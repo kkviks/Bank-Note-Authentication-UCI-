{
 "cells": [
  {
   "cell_type": "code",
   "execution_count": 207,
   "metadata": {
    "scrolled": false
   },
   "outputs": [
    {
     "data": {
      "text/plain": [
       "2"
      ]
     },
     "execution_count": 207,
     "metadata": {},
     "output_type": "execute_result"
    }
   ],
   "source": [
    "# import necessary modules\n",
    "import csv\n",
    "import numpy as np\n",
    "\n",
    "# filepath\n",
    "# change as required\n",
    "path = '/home/shreyas_204/Downloads/a1_data/a1_d1.csv'\n",
    "\n",
    "# intiate lists and variable\n",
    "positive = []\n",
    "negative = []\n",
    "p = 0\n",
    "n = 0\n",
    "\n",
    "# traverse through the CSV file and read rows\n",
    "with open(path) as csvfile:\n",
    "    read = csv.reader(csvfile, delimiter=',')\n",
    "    for row in read:  \n",
    "        # convert row into a numpy array\n",
    "        row = np.array(row)\n",
    "        v = row.size - 1\n",
    "        # if the data is a positive point, append to 'positive' list\n",
    "        # increment 'p'\n",
    "        if(row[v]=='1'):\n",
    "            positive.append(row)\n",
    "            p+=1\n",
    "        # else, append to 'negative' list\n",
    "        # increment 'n'\n",
    "        else:\n",
    "            row = np.array(row)\n",
    "            negative.append(row)\n",
    "            n+=1\n",
    "      \n",
    "positive = np.array(positive, dtype='float32')     \n",
    "negative = np.array(negative, dtype='float32')\n",
    "\n",
    "# delete the class column\n",
    "positive = np.delete(positive, v, 1)\n",
    "negative = np.delete(negative, v, 1)\n",
    "\n",
    "# get the sum of elements\n",
    "pos_mean = np.sum(positive, 0)\n",
    "neg_mean = np.sum(negative, 0)\n",
    "\n",
    "# and find the mean for both classes\n",
    "pos_mean = pos_mean / p\n",
    "neg_mean = neg_mean / n\n",
    "\n",
    "# and get the mean difference array\n",
    "mean_dif = pos_mean - neg_mean\n",
    "mean_dif = np.array(mean_dif)\n",
    "mean_dif.resize((v,1))\n",
    "\n",
    "# find Sw by the summation\n",
    "\n",
    "# first for positive points\n",
    "sumarrpos = np.zeros((v,v), dtype='float32')\n",
    "for i in range(p):\n",
    "    a = positive[i]\n",
    "    b = a.T\n",
    "    a.resize(v,1)\n",
    "    b.resize(1,v)\n",
    "    c = np.dot(a,b)\n",
    "    sumarrpos = sumarrpos + c\n",
    "sumarrpos = sumarrpos / p\n",
    "  \n",
    "# then for the negative points    \n",
    "sumarrneg = np.zeros((v,v), dtype='float32')    \n",
    "for i in range(n):\n",
    "    a = negative[i]\n",
    "    b = a.T\n",
    "    a.resize(v,1)\n",
    "    b.resize(1,v)\n",
    "    c = np.dot(a,b)\n",
    "    sumarrneg = sumarrneg + c\n",
    "sumarrneg = sumarrneg / n\n",
    "\n",
    "# and Sw is found\n",
    "sumtotal = sumarrpos + sumarrneg\n",
    "# then its inverse is found\n",
    "sumtotal = np.linalg.inv(sumtotal)\n",
    "\n",
    "# linear discriminant is found\n",
    "discriminant = np.dot(sumtotal, mean_dif)\n",
    "discriminant = discriminant.T\n",
    "\n",
    "# TODO\n",
    "\n",
    "# projection to one dimension\n",
    "# plot distributions\n",
    "# find the discriminating point"
   ]
  },
  {
   "cell_type": "code",
   "execution_count": null,
   "metadata": {},
   "outputs": [],
   "source": []
  }
 ],
 "metadata": {
  "kernelspec": {
   "display_name": "TensorFlow-GPU",
   "language": "python",
   "name": "tf-gpu"
  },
  "language_info": {
   "codemirror_mode": {
    "name": "ipython",
    "version": 3
   },
   "file_extension": ".py",
   "mimetype": "text/x-python",
   "name": "python",
   "nbconvert_exporter": "python",
   "pygments_lexer": "ipython3",
   "version": "3.7.6"
  }
 },
 "nbformat": 4,
 "nbformat_minor": 4
}
